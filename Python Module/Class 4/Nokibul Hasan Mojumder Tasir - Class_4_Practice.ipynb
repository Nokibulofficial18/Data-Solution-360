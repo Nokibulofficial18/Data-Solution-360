{
  "cells": [
    {
      "cell_type": "markdown",
      "metadata": {
        "id": "limD5IAfl-tz"
      },
      "source": [
        "# **Tuple**\n"
      ]
    },
    {
      "cell_type": "markdown",
      "metadata": {
        "id": "x0psnUiu2ZVp"
      },
      "source": [
        "### `Q1`: Check is tuples are same or not?\n",
        "Two tuples would be same if both tuples have same element at same index\n",
        "```\n",
        "t1 = (1,2,3,0)\n",
        "t2 = (0,1,2,3)\n",
        "\n",
        "t1 and t2 are not same\n",
        "```"
      ]
    },
    {
      "cell_type": "code",
      "execution_count": 1,
      "metadata": {
        "id": "JMVw9EhSrPEc"
      },
      "outputs": [
        {
          "name": "stdout",
          "output_type": "stream",
          "text": [
            "t1 and t2 are not same\n"
          ]
        }
      ],
      "source": [
        "# write your code here\n",
        "t1 = (1,2,3,0)\n",
        "t2 = (0,1,2,3)\n",
        "if t1 == t2:\n",
        "    print(\"t1 and t2 are same\")\n",
        "else:\n",
        "    print(\"t1 and t2 are not same\")"
      ]
    },
    {
      "cell_type": "markdown",
      "metadata": {
        "id": "aZ4rObHK4fCN"
      },
      "source": [
        "### `Q2`: Count no of tuples, list and set from a list\n",
        "```\n",
        "list1 = [{'hi', 'bye'},{'Geeks', 'forGeeks'},('a', 'b'),['hi', 'bye'],['a', 'b']]\n",
        "\n",
        "```\n",
        "`Output:`\n",
        "\n",
        "```\n",
        "List-2\n",
        "Set-2\n",
        "Tuples-1\n",
        "```"
      ]
    },
    {
      "cell_type": "code",
      "execution_count": 2,
      "metadata": {
        "id": "g_Bnuczk69tG"
      },
      "outputs": [
        {
          "name": "stdout",
          "output_type": "stream",
          "text": [
            "List-2\n",
            "Set-2\n",
            "Tuple-1\n"
          ]
        }
      ],
      "source": [
        "# write your code here\n",
        "list1 = [{'hi', 'bye'},{'Geeks', 'forGeeks'},('a', 'b'),['hi', 'bye'],['a', 'b']]\n",
        "list_cnt, set_cnt, tuple_cnt = 0,0,0\n",
        "for element in list1:\n",
        "    if type(element)==list:\n",
        "        list_cnt+=1\n",
        "    elif type(element)==set:\n",
        "        set_cnt+=1\n",
        "    elif type(element)==tuple:\n",
        "        tuple_cnt += 1\n",
        "\n",
        "print(f\"List-{list_cnt}\")\n",
        "print(f\"Set-{set_cnt}\")\n",
        "print(f\"Tuple-{tuple_cnt}\")"
      ]
    },
    {
      "cell_type": "markdown",
      "metadata": {
        "id": "jInFNuit8hf1"
      },
      "source": [
        "### `Q3`: Shortlist Students for a Job role\n",
        "Ask user to input students record and store in tuples for each record. Then Ask user to input three things he wants in the candidate- Primary Skill, Higher Education, Year of Graduation.\n",
        "\n",
        "Show every students record in form of tuples if matches all required criteria.\n",
        "\n",
        "It is assumed that there will be only one primry skill.\n",
        "\n",
        "If no such candidate found, print `No such candidate`\n",
        "\n",
        "`Input:`\n",
        "```\n",
        "Enter No of records- 2\n",
        "Enter Details of student-1\n",
        "Enter Student name- Alice\n",
        "Enter Higher Education- B.Tech\n",
        "Enter Primary Skill- Python\n",
        "Enter Year of Graduation- 2022\n",
        "Enter Details of student-2\n",
        "Enter Student name- Ponian\n",
        "Enter Higher Education- B.Sc.\n",
        "Enter Primary Skill- C++\n",
        "Enter Year of Graduation- 2020\n",
        "\n",
        "Enter Job Role Requirement\n",
        "Enter Skill- Python\n",
        "Enter Higher Education- B.Tech\n",
        "Enter Year of Graduation- 2022\n",
        "```\n",
        "\n",
        "`Output`\n",
        "```\n",
        "('Alice', 'B.tech', 'Python', '2022')\n",
        "```\n"
      ]
    },
    {
      "cell_type": "code",
      "execution_count": 3,
      "metadata": {
        "id": "erh9QZaerSHk"
      },
      "outputs": [
        {
          "name": "stdout",
          "output_type": "stream",
          "text": [
            "Enter Details of student-1\n",
            "Enter Details of student-2\n",
            "\n",
            "Enter Job Role Requirement: \n",
            "('Alice', 'B.Tech', 'Python', 2022)\n"
          ]
        }
      ],
      "source": [
        "# write your code here\n",
        "n = int(input(\"Enter No of records: \"))\n",
        "\n",
        "students = []\n",
        "\n",
        "for i in range(1,n+1):\n",
        "    print(f\"Enter Details of student-{i}\")\n",
        "    name = input(\"Enter Student name: \")\n",
        "    education = input(\"Enter Higher Education: \")\n",
        "    skill = input(\"Enter Primary Skill: \")\n",
        "    year = int(input(\"Enter Year of Graduation: \"))\n",
        "    students.append((name,education,skill,year))\n",
        "    \n",
        "print(\"\\nEnter Job Role Requirement: \")\n",
        "skill = input(\"Enter Primary Skill: \")\n",
        "education = input(\"Enter Higher Education: \")\n",
        "year = int(input(\"Enter Year of Graduation: \"))\n",
        "\n",
        "found = False\n",
        "\n",
        "for student in students:\n",
        "    if student[1] == education and student[2] == skill and student[3] == year:\n",
        "        print(student)\n",
        "        found = True\n",
        "        \n",
        "if not found:\n",
        "    print(\"No Such Candidates\")"
      ]
    },
    {
      "cell_type": "markdown",
      "metadata": {
        "id": "l4hLvwD2BeIN"
      },
      "source": [
        "# **Set**"
      ]
    },
    {
      "cell_type": "markdown",
      "metadata": {
        "id": "zCX0Sk2IBfu8"
      },
      "source": [
        "### `Q1:` Write a program to find set of common elements in three lists using sets.\n",
        "```\n",
        "Input : ar1 = [1, 5, 10, 20, 40, 80]\n",
        "        ar2 = [6, 7, 20, 80, 100]\n",
        "        ar3 = [3, 4, 15, 20, 30, 70, 80, 120]\n",
        "\n",
        "Output : [80, 20]\n",
        "```"
      ]
    },
    {
      "cell_type": "code",
      "execution_count": 4,
      "metadata": {
        "id": "rqATYpBUrUQU"
      },
      "outputs": [
        {
          "name": "stdout",
          "output_type": "stream",
          "text": [
            "[80, 20]\n"
          ]
        }
      ],
      "source": [
        "# write your code here\n",
        "ar1 = [1,5,10,20,40,80]\n",
        "ar2 = [6,7,20,80,100]\n",
        "ar3 = [3,4,15,20,30,70,80,120]\n",
        "\n",
        "common = list(set(ar1) & set(ar2) & set(ar3))\n",
        "\n",
        "print(common)\n"
      ]
    },
    {
      "cell_type": "markdown",
      "metadata": {
        "id": "0gOVS-0yCYrK"
      },
      "source": [
        "### `Q2:` Write a program to count unique number of vowels using sets in a given string. Lowercase and upercase vowels will be taken as different.\n",
        "\n",
        "`Input:`\n",
        "```\n",
        "Str1 = \"Artificial Intelligence and Machine Learning are transforming the wOrld\"\n",
        "```\n",
        "`Output:`\n",
        "```\n",
        "No of unique vowels-6\n",
        "```"
      ]
    },
    {
      "cell_type": "code",
      "execution_count": 8,
      "metadata": {
        "id": "0vAlEAOzDihm"
      },
      "outputs": [
        {
          "name": "stdout",
          "output_type": "stream",
          "text": [
            "No of unique vowels in Artificial Intelligence and Machine Learning are transforming the wOrld is 7\n"
          ]
        }
      ],
      "source": [
        "# write your code here\n",
        "str1 = input(\"Enter the string: \")\n",
        "vowel_list = []\n",
        "for char in str1:\n",
        "    if(char.lower()=='a' or char.lower() == 'e' or char.lower()=='i' or char.lower()=='o' or  char.lower()=='u'):\n",
        "        vowel_list.append(char)\n",
        "        \n",
        "st = set(vowel_list)\n",
        "\n",
        "n = len(st)\n",
        "\n",
        "print(f\"No of unique vowels in {str1} is {n}\")"
      ]
    },
    {
      "cell_type": "markdown",
      "metadata": {
        "id": "fqLZxiarEne5"
      },
      "source": [
        "### `Q3:` Write a program to Check if a given string is binary string of or not.\n",
        "\n",
        "A string is said to be binary if it's consists of only two unique characters.\n",
        "\n",
        "Take string input from user.\n",
        "\n",
        "```\n",
        "Input: str = \"01010101010\"\n",
        "Output: Yes\n",
        "\n",
        "Input: str = \"1222211\"\n",
        "Output: Yes\n",
        "\n",
        "Input: str = \"DataSolution360\"\n",
        "Output: No\n",
        "```"
      ]
    },
    {
      "cell_type": "code",
      "execution_count": 11,
      "metadata": {
        "id": "5M5v8LoYrXkE"
      },
      "outputs": [
        {
          "name": "stdout",
          "output_type": "stream",
          "text": [
            "N0\n"
          ]
        }
      ],
      "source": [
        "# write your code here\n",
        "str = input(\"Enter the string: \")\n",
        "st = set(char for char in str)\n",
        "\n",
        "if len(st) > 2:\n",
        "    print(\"N0\")\n",
        "else:\n",
        "    flag = False\n",
        "    for s in st:\n",
        "        if s != '0' and s!='1':\n",
        "            flag = True\n",
        "            break\n",
        "    if flag:\n",
        "        print(\"No\")\n",
        "    else:\n",
        "        print(\"Yes\")"
      ]
    },
    {
      "cell_type": "markdown",
      "metadata": {
        "id": "T_Re21BdndOz"
      },
      "source": [
        "\n",
        "### `Q4`: Intersection of two sets. Intersection of two sets means we need to take all those elements which are common to both of the initial sets and store them into another set. Use **set operations**.\n",
        "\n",
        "**Example 1:**\n",
        "\n",
        "Input:\n",
        "```bash\n",
        "set1 = {15, 9, 10, 56, 23, 78, 5, 4, 9}\n",
        "set2 = {9, 4, 5, 36, 47, 26, 10, 45, 87}\n",
        "```\n",
        "\n",
        "Output:\n",
        "```bash\n",
        "{9, 10, 4, 5}\n",
        "```\n",
        "\n",
        "**Example 2:**\n",
        "\n",
        "Input:\n",
        "```bash\n",
        "set1 = {4, 9, 1, 17, 11, 26, 28, 54, 69}\n",
        "set2 = {9, 9, 74, 21, 45, 11, 63, 28, 26}\n",
        "```\n",
        "\n",
        "Output:\n",
        "```bash\n",
        "{9, 11, 26, 28}\n",
        "```"
      ]
    },
    {
      "cell_type": "code",
      "execution_count": 14,
      "metadata": {
        "id": "nWnL25ftoLVT"
      },
      "outputs": [
        {
          "name": "stdout",
          "output_type": "stream",
          "text": [
            "Intersection of {1, 4, 69, 9, 11, 17, 54, 26, 28} and {9, 74, 11, 45, 21, 26, 28, 63} sets are: {9, 26, 11, 28}\n"
          ]
        }
      ],
      "source": [
        "# write your code here\n",
        "n1 = int(input(\"Enter the length of the first set: \"))\n",
        "list1 = []\n",
        "for i in range(n1):\n",
        "    x = int(input())\n",
        "    list1.append(x)\n",
        "st1 = set(list1)\n",
        "\n",
        "n2 = int(input(\"Enter the length of the first set: \"))\n",
        "list2 = []\n",
        "for i in range(n2):\n",
        "    x = int(input())\n",
        "    list2.append(x)    \n",
        "st2 = set(list2)\n",
        "\n",
        "intersect_set = st1 & st2\n",
        "\n",
        "print(f\"Intersection of {st1} and {st2} sets are: {intersect_set}\")"
      ]
    },
    {
      "cell_type": "markdown",
      "metadata": {
        "id": "tD2RSYn1a8oA"
      },
      "source": [
        "# **Dictionary**"
      ]
    },
    {
      "cell_type": "markdown",
      "metadata": {
        "id": "7tUjHhcPbQzQ"
      },
      "source": [
        "### `Q1`: Key with maximum unique values\n",
        "\n",
        "Given a dictionary with values as lists, extract the key whose value has the most unique values.\n",
        "\n",
        "**Example 1:**\n",
        "\n",
        "Input:\n",
        "```bash\n",
        "test_dict = {\"Python\" : [5, 7, 9, 4, 0], \"is\" : [6, 7, 4, 3, 3], \"Awesome\" : [9, 9, 6, 5, 5]}\n",
        "```\n",
        "\n",
        "Output:\n",
        "```bash\n",
        "Python\n",
        "```\n",
        "\n",
        "**Example 2:**\n",
        "\n",
        "Input:\n",
        "```bash\n",
        "test_dict = {\"Python\" : [5, 7, 7, 7, 7], \"is\" : [6, 7, 7, 7], \"Awesome\" : [9, 9, 6, 5, 5]}\n",
        "```\n",
        "\n",
        "Output:\n",
        "```bash\n",
        "Awesome\n",
        "```\n",
        "\n",
        "Let me know if you need further adjustments! 😊"
      ]
    },
    {
      "cell_type": "code",
      "execution_count": 17,
      "metadata": {
        "id": "N8KHX863lNxL"
      },
      "outputs": [
        {
          "name": "stdout",
          "output_type": "stream",
          "text": [
            "Python\n"
          ]
        }
      ],
      "source": [
        "# write your code here\n",
        "n = int(input(\"Enter the number of keys: \"))\n",
        "my_dict = {}\n",
        "\n",
        "for i in range(n):\n",
        "    key = input(\"Enter the key name: \")\n",
        "    values = input(\"Enter the list of the values: \").split()\n",
        "    my_dict[key] = [int(x) for x in values]\n",
        "    \n",
        "    \n",
        "max_key = \"\"\n",
        "max_unique = -1\n",
        "for key in my_dict:\n",
        "    max_unique = max(max_unique,len(set(my_dict[key])))\n",
        "    if max_unique == len(set(my_dict[key])):\n",
        "        max_key = key\n",
        "\n",
        "print(max_key)    "
      ]
    },
    {
      "cell_type": "markdown",
      "metadata": {
        "id": "_S5X6C84dWdJ"
      },
      "source": [
        "### `Q2`: Replace words from Dictionary. Given a string, replace its words using a lookup dictionary.\n",
        "\n",
        "**Example 1:**\n",
        "\n",
        "Input:\n",
        "```bash\n",
        "test_str = 'Python is great for coding beginners.'\n",
        "repl_dict = {\"great\" : \"amazing\", \"coding\" : \"programming\"}\n",
        "```\n",
        "\n",
        "Output:\n",
        "```bash\n",
        "Python is amazing for programming beginners.\n",
        "```\n",
        "\n",
        "**Example 2:**\n",
        "\n",
        "Input:\n",
        "```bash\n",
        "test_str = 'Python is great for coding beginners.'\n",
        "repl_dict = {\"awesome\" : \"amazing\", \"code\" : \"programming\"}\n",
        "```\n",
        "\n",
        "Output:\n",
        "```bash\n",
        "Python is great for coding beginners.\n",
        "```\n",
        "\n",
        "### Explanation:\n",
        "- If a word in the string exists in the `repl_dict`, replace it with the corresponding value from the dictionary.\n",
        "- If a word does not exist in the dictionary, leave it unchanged.\n"
      ]
    },
    {
      "cell_type": "code",
      "execution_count": 2,
      "metadata": {
        "id": "BTAQ8qnrlOxr"
      },
      "outputs": [
        {
          "name": "stdout",
          "output_type": "stream",
          "text": [
            "Modified string: I am straight\n"
          ]
        }
      ],
      "source": [
        "\n",
        "test_str = input(\"Enter the string: \")\n",
        "n = int(input(\"Enter the number of replacement pairs: \"))\n",
        "repl_dict = {}\n",
        "for i in range(1, n + 1):\n",
        "    key = input(f\"Enter key #{i}: \")\n",
        "    value = input(f\"Enter value for '{key}': \")\n",
        "    repl_dict[key] = value\n",
        "result_str = \" \".join([repl_dict.get(word, word) for word in test_str.split()])\n",
        "\n",
        "print(\"Modified string:\", result_str)\n"
      ]
    },
    {
      "cell_type": "markdown",
      "metadata": {
        "id": "55xgap3zfbcR"
      },
      "source": [
        "### `Q3`: Convert List to List of Dictionaries. Given a list of values and a list of keys, convert these values into key-value pairs in the form of a list of dictionaries.\n",
        "\n",
        "**Example 1:**\n",
        "\n",
        "Input:\n",
        "```bash\n",
        "test_list = [\"DataScience\", 3, \"Datasolution\", 8]\n",
        "key_list = [\"name\", \"id\"]\n",
        "```\n",
        "\n",
        "Output:\n",
        "```bash\n",
        "[{'name': 'DataScience', 'id': 3}, {'name': 'Datasolution', 'id': 8}]\n",
        "```\n",
        "\n",
        "**Example 2:**\n",
        "\n",
        "Input:\n",
        "```bash\n",
        "test_list = [\"Python\", 10]\n",
        "key_list = [\"name\", \"id\"]\n",
        "```\n",
        "\n",
        "Output:\n",
        "```bash\n",
        "[{'name': 'Python', 'id': 10}]\n",
        "```"
      ]
    },
    {
      "cell_type": "code",
      "execution_count": 3,
      "metadata": {
        "id": "jbCajI87lQFr"
      },
      "outputs": [
        {
          "name": "stdout",
          "output_type": "stream",
          "text": [
            "[{'name': 'DataScience', 'id': '3'}, {'name': 'DataSolution', 'id': '8'}]\n"
          ]
        }
      ],
      "source": [
        "# write your code here\n",
        "n = int(input(\"Enter the size of the test list: \"))\n",
        "test_list = []\n",
        "for i in range(n):\n",
        "    s = input()\n",
        "    test_list.append(s)\n",
        "n = int(input(\"Enter the size of the key list: \"))\n",
        "key_list = []\n",
        "for i in range(n):\n",
        "    s = input()\n",
        "    key_list.append(s)\n",
        "\n",
        "size = len(key_list)\n",
        "result_list = []\n",
        "for i in range(0,len(test_list),size):\n",
        "    part = test_list[i:i+size]\n",
        "    my_dict = dict(zip(key_list,part))\n",
        "    result_list.append(my_dict)\n",
        "    \n",
        "print(result_list)"
      ]
    },
    {
      "cell_type": "markdown",
      "metadata": {
        "id": "5RxBlLQahLkB"
      },
      "source": [
        "### `Q4`: Convert a list of Tuples into Dictionary.\n",
        "\n",
        "**Example 1:**\n",
        "\n",
        "Input:\n",
        "```bash\n",
        "[(\"Rahim\", 10), (\"Karim\", 12), (\"Sadia\", 14), (\"Tania\", 20), (\"Fahim\", 25), (\"Nadia\", 30)]\n",
        "```\n",
        "\n",
        "Output:\n",
        "```bash\n",
        "{'Rahim': [10], 'Karim': [12], 'Sadia': [14], 'Tania': [20], 'Fahim': [25], 'Nadia': [30]}\n",
        "```\n",
        "\n",
        "**Example 2:**\n",
        "\n",
        "Input:\n",
        "```bash\n",
        "[('Ayan', 1), ('Bina', 2), ('Celia', 3)]\n",
        "```\n",
        "\n",
        "Output:\n",
        "```bash\n",
        "{'Ayan': [1], 'Bina': [2], 'Celia': [3]}\n",
        "```"
      ]
    },
    {
      "cell_type": "code",
      "execution_count": 5,
      "metadata": {
        "id": "f1yz7inMlQ5N"
      },
      "outputs": [
        {
          "name": "stdout",
          "output_type": "stream",
          "text": [
            "Enter the details of 1th tuple: \n",
            "Enter the details of 2th tuple: \n",
            "Enter the details of 3th tuple: \n",
            "Enter the details of 4th tuple: \n",
            "Enter the details of 5th tuple: \n",
            "Enter the details of 6th tuple: \n",
            "{'rahim': '10', 'karim': '12', 'sadia': '14', 'tania': '20', 'fahim': '25', 'nadia': '30'}\n"
          ]
        }
      ],
      "source": [
        "# write your code here\n",
        "n = int(input(\"ENter the size of the tuple list: \"))\n",
        "tuple_list = []\n",
        "for i in range(1,n+1):\n",
        "    print(f\"Enter the details of {i}th tuple: \")\n",
        "    temp = input()\n",
        "    tuple_md = tuple(temp.split())\n",
        "    tuple_list.append(tuple_md)\n",
        "my_dict = {}\n",
        "for tuple_md in tuple_list:\n",
        "    my_dict[tuple_md[0]] = tuple_md[1]\n",
        "    \n",
        "print(my_dict)"
      ]
    },
    {
      "cell_type": "markdown",
      "metadata": {
        "id": "Fz8EzJD-kBkS"
      },
      "source": [
        "### `Q5`: Sort Dictionary key and values List.\n",
        "\n",
        "**Example 1:**\n",
        "\n",
        "Input:\n",
        "\n",
        "```bash\n",
        "{'c': [3], 'b': [12, 10], 'a': [19, 4]}\n",
        "```\n",
        "\n",
        "Output:\n",
        "\n",
        "```bash\n",
        "{'a': [4, 19], 'b': [10, 12], 'c': [3]}\n",
        "```\n",
        "\n",
        "**Example 2:**\n",
        "\n",
        "Input:\n",
        "\n",
        "```bash\n",
        "{'c': [10, 34, 3]}\n",
        "```\n",
        "\n",
        "Output:\n",
        "\n",
        "```bash\n",
        "{'c': [3, 10, 34]}\n",
        "```"
      ]
    },
    {
      "cell_type": "code",
      "execution_count": 6,
      "metadata": {
        "id": "x9UmJ4EQk7Pp"
      },
      "outputs": [
        {
          "name": "stdout",
          "output_type": "stream",
          "text": [
            "{'a': [4, 19], 'b': [10, 12], 'c': [3]}\n"
          ]
        }
      ],
      "source": [
        "# write your code here\n",
        "n = int(input(\"Enter number of dictionary items: \"))\n",
        "input_dict = {}\n",
        "for i in range(n):\n",
        "    key = input(f\"Enter key #{i+1}: \")\n",
        "    values = input(f\"Enter values for key '{key}' (space-separated): \")\n",
        "    value_list = list(map(int, values.split()))\n",
        "    input_dict[key] = value_list\n",
        "    \n",
        "sorted_dict = {}\n",
        "\n",
        "for key in sorted(input_dict):\n",
        "    sorted_dict[key] = sorted(input_dict[key])\n",
        "\n",
        "print(sorted_dict)"
      ]
    },
    {
      "cell_type": "code",
      "execution_count": null,
      "metadata": {},
      "outputs": [],
      "source": []
    }
  ],
  "metadata": {
    "colab": {
      "provenance": []
    },
    "kernelspec": {
      "display_name": "Python 3",
      "name": "python3"
    },
    "language_info": {
      "codemirror_mode": {
        "name": "ipython",
        "version": 3
      },
      "file_extension": ".py",
      "mimetype": "text/x-python",
      "name": "python",
      "nbconvert_exporter": "python",
      "pygments_lexer": "ipython3",
      "version": "3.12.6"
    }
  },
  "nbformat": 4,
  "nbformat_minor": 0
}
