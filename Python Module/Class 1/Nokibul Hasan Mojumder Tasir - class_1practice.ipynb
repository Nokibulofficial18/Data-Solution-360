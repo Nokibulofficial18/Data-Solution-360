{
  "cells": [
    {
      "cell_type": "markdown",
      "metadata": {
        "id": "A05OG15VqOPF"
      },
      "source": [
        "# Task : Class 1\n",
        "Solve these questions own your own and try to test yourself what you have learned in the session.\n",
        "\n",
        "Happy Learning!"
      ]
    },
    {
      "cell_type": "markdown",
      "metadata": {
        "id": "2doIXf8bqe9_"
      },
      "source": [
        "### Q1 :- Print the given strings as per stated format.\n",
        "\n",
        "**Given strings**:\n",
        "```\n",
        "\"Machine\" \"Learning\" \"With Python and R\" \"Program\"\n",
        "\"By\" \"Datasolution360\"\n",
        "```\n",
        "**Output**:\n",
        "```\n",
        "Machine-Learning-With Python and R-Program-Conducted-By-Datasolution360\n",
        "```\n",
        "\n",
        "Concept- [Seperator and End]"
      ]
    },
    {
      "cell_type": "code",
      "execution_count": 1,
      "metadata": {
        "id": "-em6d3KErDtp"
      },
      "outputs": [
        {
          "name": "stdout",
          "output_type": "stream",
          "text": [
            "Machine-Learning-With Python and R-Program-Conducted-By-Datasolution360-"
          ]
        }
      ],
      "source": [
        "# Write your code here\n",
        "print(\"Machine\",end=\"-\")\n",
        "print(\"Learning\",end=\"-\")\n",
        "print(\"With Python and R\",end=\"-\")\n",
        "print(\"Program\",end=\"-\")\n",
        "print(\"Conducted\",end=\"-\")\n",
        "print(\"By\",end=\"-\")\n",
        "print(\"Datasolution360\",end=\"-\")"
      ]
    },
    {
      "cell_type": "markdown",
      "metadata": {
        "id": "1KUpN7ZTrC3_"
      },
      "source": [
        "### Q2:- Write a program that will convert celsius value to fahrenheit."
      ]
    },
    {
      "cell_type": "code",
      "execution_count": 2,
      "metadata": {
        "id": "yxKYhYQiqWfj"
      },
      "outputs": [
        {
          "name": "stdout",
          "output_type": "stream",
          "text": [
            "40 temperature is 104.0 in fahrenheit\n"
          ]
        }
      ],
      "source": [
        "# Write your code here\n",
        "celsius = int(input(\"Input the temperature in celsius: \"))\n",
        "fahrenheit = (celsius * 9/5) + 32\n",
        "print(f\"{celsius} temperature is {fahrenheit} in fahrenheit\") "
      ]
    },
    {
      "cell_type": "markdown",
      "metadata": {
        "id": "RLrOBBJurLB2"
      },
      "source": [
        "### Q3:- Take 2 numbers as input from the user.Write a program to swap the numbers without using any special python syntax."
      ]
    },
    {
      "cell_type": "code",
      "execution_count": 3,
      "metadata": {
        "id": "yPn7if0TrJ4F"
      },
      "outputs": [
        {
          "name": "stdout",
          "output_type": "stream",
          "text": [
            "Before swapping: \n",
            "A: 45, B:65\n",
            "After swapping: \n",
            "A: 65, B:45\n"
          ]
        }
      ],
      "source": [
        "# Write your code here\n",
        "a = int(input(\"enter the first number: \"))\n",
        "b = int(input(\"Enter the second number: \"))\n",
        "print(\"Before swapping: \")\n",
        "print(f\"A: {a}, B:{b}\")\n",
        "temp = a\n",
        "a = b\n",
        "b = temp\n",
        "print(\"After swapping: \")\n",
        "print(f\"A: {a}, B:{b}\")"
      ]
    },
    {
      "cell_type": "markdown",
      "metadata": {
        "id": "VLrhg-FRsHjR"
      },
      "source": [
        "### Q4:- Write a program to find the simple interest when the value of principle,rate of interest and time period is provided by the user.\n"
      ]
    },
    {
      "cell_type": "code",
      "execution_count": 1,
      "metadata": {
        "id": "s40DlReZsTmY"
      },
      "outputs": [
        {
          "name": "stdout",
          "output_type": "stream",
          "text": [
            "\n",
            "Simple Interest Calculation:\n",
            "Principal  Amount: 4500.0\n",
            "Rate of Interest: 35.0%\n",
            "Time Period: 4.0 years\n",
            "Simple Interest: 6300.00\n",
            "Total Amount: 10800.00\n"
          ]
        }
      ],
      "source": [
        "# Write your code here\n",
        "\n",
        "principal_amount  = float(input(\"Enter the principal amount: \"))\n",
        "interest_rate = float(input(\"Enter the rate of interest (in percentage): \"))\n",
        "time = float(input(\"Enter the time period (in years): \"))\n",
        "\n",
        "simple_interest = (principal_amount  * interest_rate * time) / 100\n",
        "\n",
        "print(f\"\\nSimple Interest Calculation:\")\n",
        "print(f\"Principal  Amount: {principal_amount }\")\n",
        "print(f\"Rate of Interest: {interest_rate}%\")\n",
        "print(f\"Time Period: {time} years\")\n",
        "print(f\"Simple Interest: {simple_interest:.2f}\")\n",
        "print(f\"Total Amount: {principal_amount  + simple_interest:.2f}\")"
      ]
    },
    {
      "cell_type": "markdown",
      "metadata": {
        "id": "LMy0BTUktYKa"
      },
      "source": [
        "### Q5:- Write a program that will tell the number of dogs and chicken are there when the user will provide the value of total heads and legs.\n",
        "\n",
        "For example:\n",
        "Input:\n",
        "heads -> 4\n",
        "legs -> 12\n",
        "<br>\n",
        "Output:\n",
        "dogs -> 2\n",
        "chicken -> 2\n",
        "\n",
        "\n",
        "\n"
      ]
    },
    {
      "cell_type": "code",
      "execution_count": null,
      "metadata": {
        "id": "XSBvJoA4tXaG"
      },
      "outputs": [
        {
          "name": "stdout",
          "output_type": "stream",
          "text": [
            "dogs -> 2\n",
            "chicken-> 2\n"
          ]
        }
      ],
      "source": [
        "# Write your code here\n",
        "heads = int(input(\"Enter the total number of heads: \"))\n",
        "legs = int(input(\"Enter the total number of legs\"))\n",
        "dogs = (legs-2*heads)//2\n",
        "chickens = heads - dogs\n",
        "print(\"dogs ->\",dogs)\n",
        "print(\"chicken->\",chickens)"
      ]
    },
    {
      "cell_type": "markdown",
      "metadata": {
        "id": "gJ7C5kZYt4BP"
      },
      "source": [
        "### Q6:- Write a program to find the sum of squares of first n natural numbers where n will be provided by the user."
      ]
    },
    {
      "cell_type": "code",
      "execution_count": 3,
      "metadata": {
        "id": "_tHsmEHzt2nX"
      },
      "outputs": [
        {
          "name": "stdout",
          "output_type": "stream",
          "text": [
            "Sum of squares of first 5 natural number is 55.\n"
          ]
        }
      ],
      "source": [
        "# Write your code here\n",
        "n = int(input(\"Enter the number: \"))\n",
        "result =  n * (n + 1) * (2*n + 1) // 6\n",
        "print(f\"Sum of squares of first {n} natural number is {result}.\")"
      ]
    },
    {
      "cell_type": "markdown",
      "metadata": {
        "id": "FHrMM7g-yG1h"
      },
      "source": [
        "### Q7:- Given the first 2 terms of an Arithmetic Series.Find the Nth term of the series. Assume all inputs are provided by the user."
      ]
    },
    {
      "cell_type": "code",
      "execution_count": 5,
      "metadata": {
        "id": "go4_kmZmyVSx"
      },
      "outputs": [
        {
          "name": "stdout",
          "output_type": "stream",
          "text": [
            "6 th term of the series is 20\n"
          ]
        }
      ],
      "source": [
        "# Write your code here\n",
        "first = int(input(\"Enter the first term: \"))\n",
        "second = int(input(\"Enter the 2nd term: \"))\n",
        "n = int(input(\"Enter the nth number which you want: \"))\n",
        "res = first + (second-first)*(n-1) \n",
        "print(f\"{n} th term of the series is {res}\")"
      ]
    },
    {
      "cell_type": "markdown",
      "metadata": {
        "id": "QgyRX_es1oum"
      },
      "source": [
        "### Q8:- Given 2 fractions, find the sum of those 2 fractions.Take the numerator and denominator values of the fractions from the user."
      ]
    },
    {
      "cell_type": "code",
      "execution_count": 6,
      "metadata": {
        "id": "X05xqFS1yW16"
      },
      "outputs": [
        {
          "name": "stdout",
          "output_type": "stream",
          "text": [
            "The sum of 1/2 + 1/3 = 5/6\n"
          ]
        }
      ],
      "source": [
        "# Write your code here\n",
        "num1 = int(input(\"Enter numerator of first fraction: \"))\n",
        "den1 = int(input(\"Enter denominator of first fraction: \"))\n",
        "\n",
        "num2 = int(input(\"Enter numerator of second fraction: \"))\n",
        "den2 = int(input(\"Enter denominator of second fraction: \"))\n",
        "\n",
        "sum_num = num1 * den2 + num2 * den1\n",
        "sum_den = den1 * den2\n",
        "\n",
        "print(f\"The sum of {num1}/{den1} + {num2}/{den2} = {sum_num}/{sum_den}\")"
      ]
    },
    {
      "cell_type": "markdown",
      "metadata": {
        "id": "eaql38ln13u7"
      },
      "source": [
        "### Q9:- Given the height, width and breadth of a milk tank, you have to find out how many glasses of milk can be obtained? Assume all the inputs are provided by the user.\n",
        "\n",
        "\n",
        "\n",
        "Input:<br>\n",
        "Dimensions of the milk tank<br>\n",
        "H = 20cm, L = 20cm, B = 20cm\n",
        "<br><br>\n",
        "Dimensions of the glass<br>\n",
        "h = 3cm, r = 1cm"
      ]
    },
    {
      "cell_type": "code",
      "execution_count": 7,
      "metadata": {
        "id": "FePZqno74eWv"
      },
      "outputs": [
        {
          "name": "stdout",
          "output_type": "stream",
          "text": [
            "Number of glasses that can be filled: 848.0\n"
          ]
        }
      ],
      "source": [
        "# Write your code here\n",
        "tank_height = int(input(\"Enter the tank height: \"))\n",
        "tank_length = int(input(\"Enter the tank length: \"))\n",
        "tank_breadth = int(input(\"Enter the tank breadth: \"))\n",
        "glass_height = int(input(\"Enter the glass height: \"))\n",
        "glass_radius = int(input(\"Enter the glass radius: \"))\n",
        "\n",
        "tank_volume = tank_height * tank_length * tank_breadth\n",
        "\n",
        "glass_volume = 3.1416 * glass_height * glass_radius\n",
        "\n",
        "no_of_glasses = tank_volume // glass_volume\n",
        "\n",
        "print(f\"Number of glasses that can be filled: {no_of_glasses}\")"
      ]
    },
    {
      "cell_type": "code",
      "execution_count": null,
      "metadata": {},
      "outputs": [],
      "source": []
    }
  ],
  "metadata": {
    "colab": {
      "provenance": []
    },
    "kernelspec": {
      "display_name": "base",
      "language": "python",
      "name": "python3"
    },
    "language_info": {
      "codemirror_mode": {
        "name": "ipython",
        "version": 3
      },
      "file_extension": ".py",
      "mimetype": "text/x-python",
      "name": "python",
      "nbconvert_exporter": "python",
      "pygments_lexer": "ipython3",
      "version": "3.12.4"
    }
  },
  "nbformat": 4,
  "nbformat_minor": 0
}
