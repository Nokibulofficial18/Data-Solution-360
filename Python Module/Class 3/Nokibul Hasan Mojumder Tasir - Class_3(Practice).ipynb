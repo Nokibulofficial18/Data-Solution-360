{
  "cells": [
    {
      "cell_type": "markdown",
      "metadata": {
        "id": "kLZ_vCeE0lsM"
      },
      "source": [
        "###`Problem 1:` Combine two lists index-wise(columns wise)\n",
        "\n",
        "Write a program to add two lists index-wise. Create a new list that contains the 0th index item from both the list, then the 1st index item, and so on till the last element. any leftover items will get added at the end of the new list.\n",
        "\n",
        "`Given List:`\n",
        "```\n",
        "list1 = [\"M\", \"na\", \"i\", \"Kh\"]\n",
        "list2 = [\"y\", \"me\", \"s\", \"an\"]\n",
        "```\n",
        "\n",
        "`Output:`\n",
        "```\n",
        "[['M','y'], ['na', me'], ['i', 's'], ['Kh', 'an']]\n",
        "```"
      ]
    },
    {
      "cell_type": "code",
      "execution_count": 1,
      "metadata": {
        "id": "cDO3Yv6p0nnG"
      },
      "outputs": [
        {
          "name": "stdout",
          "output_type": "stream",
          "text": [
            "[['M', 'y'], ['na', 'me'], ['i', 's'], ['kh', 'an']]\n"
          ]
        }
      ],
      "source": [
        "# Write code here\n",
        "list1 = [\"M\", \"na\", \"i\", \"kh\"]\n",
        "list2 = [\"y\", \"me\", \"s\", \"an\"]\n",
        "combined_list=[]\n",
        "\n",
        "n = max(len(list1), len(list2))\n",
        "for i in range(n):\n",
        "    secondary = []\n",
        "    if i < len(list1):\n",
        "        secondary.append(list1[i])\n",
        "    if i < len(list2):\n",
        "        secondary.append(list2[i])\n",
        "    combined_list.append(secondary)\n",
        "    \n",
        "print(combined_list)"
      ]
    },
    {
      "cell_type": "markdown",
      "metadata": {
        "id": "bnRwRgf_0qLu"
      },
      "source": [
        "### `Problem 2:` Add new item to list after a specified item\n",
        "Write a program to add item 7000 after 6000 in the following Python List\n",
        "```\n",
        "list1 = [10, 20, [300, 400, [5000, 6000], 500], 30, 40]\n",
        "```\n",
        "`Output:`\n",
        "```\n",
        "[10, 20, [300, 400, [5000, 6000, 7000], 500], 30, 40]\n",
        "```"
      ]
    },
    {
      "cell_type": "code",
      "execution_count": 4,
      "metadata": {
        "id": "yW5lLPns00q9"
      },
      "outputs": [
        {
          "name": "stdout",
          "output_type": "stream",
          "text": [
            "[10, 20, [300, 400, [5000, 6000, 7000], 500], 30, 40]\n"
          ]
        }
      ],
      "source": [
        "# Write code here\n",
        "list1 = [10, 20, [300, 400, [5000, 6000], 500], 30, 40]\n",
        "nested_list = list1[2][2]\n",
        "i = nested_list.index(6000)\n",
        "nested_list.insert(i+1,7000)\n",
        "print(list1)"
      ]
    },
    {
      "cell_type": "markdown",
      "metadata": {
        "id": "w7fC8oHk02fH"
      },
      "source": [
        "###`Problem 3:` Update no of items available\n",
        "\n",
        "Suppose you are given a list of candy and another list of same size representing no of items of respective candy.\n",
        "\n",
        "i.e -  \n",
        "```\n",
        "candy_list = ['Jelly Belly','Kit Kat','Double Bubble','Milky Way','Three Musketeers']\n",
        "no_of_items = [10,20,34,74,32]\n",
        "```\n",
        "\n",
        "Write a program to show no. of items of each candy type.\n",
        "\n",
        "`Output:`\n",
        "\n",
        "```\n",
        "Jelly Belly-10\n",
        "Kit Kat-20\n",
        "Double Bubble-34\n",
        "Milky Way-74\n",
        "Three Musketeers-32\n",
        "\n",
        "```"
      ]
    },
    {
      "cell_type": "code",
      "execution_count": 3,
      "metadata": {
        "id": "gg5JEX1a09q8"
      },
      "outputs": [
        {
          "name": "stdout",
          "output_type": "stream",
          "text": [
            "Jelly Belly - 10\n",
            "Kit Kat - 20\n",
            "Double Bubble - 34\n",
            "Milky Way - 74\n",
            "Three Musketeers - 32\n"
          ]
        }
      ],
      "source": [
        "# Write code here\n",
        "candy_list = ['Jelly Belly','Kit Kat','Double Bubble','Milky Way','Three Musketeers']\n",
        "no_of_items = [10,20,34,74,32] \n",
        "n = len(candy_list)\n",
        "for i in range(n):\n",
        "    print(f\"{candy_list[i]} - {no_of_items[i]}\")"
      ]
    },
    {
      "cell_type": "markdown",
      "metadata": {
        "id": "mFGZAvnB1D3N"
      },
      "source": [
        "###`Problem 4:` Running Sum on list\n",
        "Write a program to print a list after performing running sum on it.\n",
        "\n",
        "i.e:\n",
        "\n",
        "`Input:`\n",
        "```\n",
        "list1 = [1,2,3,4,5,6]\n",
        "```\n",
        "`Output:`\n",
        "```\n",
        "[1,3,6,10,15,21]\n",
        "```"
      ]
    },
    {
      "cell_type": "code",
      "execution_count": 5,
      "metadata": {
        "id": "8LPS6DaD1FTs"
      },
      "outputs": [
        {
          "data": {
            "text/plain": [
              "[1, 3, 6, 10, 15, 21]"
            ]
          },
          "execution_count": 5,
          "metadata": {},
          "output_type": "execute_result"
        }
      ],
      "source": [
        "# Write code here\n",
        "list1 = [1,2,3,4,5,6]\n",
        "sum_list = []\n",
        "sum_list.append(list1[0])\n",
        "for i in range(1,len(list1)):\n",
        "    sum_list.append(sum_list[i-1]+list1[i])\n",
        "\n",
        "sum_list"
      ]
    },
    {
      "cell_type": "markdown",
      "metadata": {
        "id": "2ztcZ-EW1HEU"
      },
      "source": [
        "###`Problem 5:` You are given a list of integers. You are asked to make a list by running through elements of the list by adding all elements greater and itself.\n",
        "\n",
        "i.e. Say given list is `[2,4,6,10,1]`\n",
        "resultant list will be `[22,20,10,23]`.\n",
        "\n",
        "For 1st element `2` ->> these are greater `(4+6+10)` values and `2` itself so on adding becomes `22`.\n",
        "\n",
        "For 2nd element `4` ->> greater elements are `(6, 10)` and `4` itself, so on adding `20`\n",
        "\n",
        "like wise for all other elememts.\n",
        "\n",
        "`[2,4,6,10,1]`-->`[22,20,16,10,23]`\n",
        "\n",
        "\n"
      ]
    },
    {
      "cell_type": "code",
      "execution_count": 6,
      "metadata": {
        "id": "UJuWqzj31UD2"
      },
      "outputs": [
        {
          "data": {
            "text/plain": [
              "[22, 20, 16, 10, 23]"
            ]
          },
          "execution_count": 6,
          "metadata": {},
          "output_type": "execute_result"
        }
      ],
      "source": [
        "# Write code here\n",
        "list1= [2,4,6,10,1]\n",
        "n = len(list1)\n",
        "greater_sum_list=[]\n",
        "for i in range(n):\n",
        "    sum = list1[i]\n",
        "    for j in range(n):\n",
        "        if i != j:\n",
        "            if list1[i] < list1[j]:\n",
        "                sum += list1[j]\n",
        "    \n",
        "    greater_sum_list.append(sum)\n",
        "greater_sum_list"
      ]
    },
    {
      "cell_type": "markdown",
      "metadata": {
        "id": "c9H6tYTx1ZYo"
      },
      "source": [
        "###`Problem 6:` Find list of common unique items from two list. and show in increasing order\n",
        "\n",
        "`Input`\n",
        "\n",
        "```\n",
        "num1 = [23,45,67,78,89,34]\n",
        "num2 = [34,89,55,56,39,67]\n",
        "```\n",
        "\n",
        "`Output:`\n",
        "```\n",
        "[34, 67, 89]\n",
        "```\n"
      ]
    },
    {
      "cell_type": "code",
      "execution_count": 7,
      "metadata": {
        "id": "dDxdi7eE1e1W"
      },
      "outputs": [
        {
          "name": "stdout",
          "output_type": "stream",
          "text": [
            "[34, 67, 89]\n"
          ]
        }
      ],
      "source": [
        "# Write code here\n",
        "num1 = [23,45,67,78,89,34]\n",
        "num2 = [34,89,55,56,39,67]\n",
        "\n",
        "combined_list = []\n",
        "for i in range(len(num1)):\n",
        "    for j in range(len(num2)):\n",
        "        if num1[i]==num2[j]:\n",
        "            combined_list.append(num1[i])\n",
        "\n",
        "combined_list.sort()\n",
        "\n",
        "print(combined_list)"
      ]
    },
    {
      "cell_type": "markdown",
      "metadata": {
        "id": "McMaNSpB1zJB"
      },
      "source": [
        "\n",
        "**Problem 8:** Split a string from a list into individual words.\n",
        "\n",
        "**Example:**\n",
        "\n",
        "Input:\n",
        "```bash\n",
        "['This is a test', 'for splitting', 'strings into words.']\n",
        "```\n",
        "\n",
        "Output:\n",
        "```bash\n",
        "['This', 'is', 'a', 'test', 'for', 'splitting', 'strings', 'into', 'words.']\n",
        "```"
      ]
    },
    {
      "cell_type": "code",
      "execution_count": 8,
      "metadata": {
        "id": "rLg6AUhf14wI"
      },
      "outputs": [
        {
          "data": {
            "text/plain": [
              "['This', 'is', 'a', 'test', 'for', 'splitting', 'strings', 'into', 'words.']"
            ]
          },
          "execution_count": 8,
          "metadata": {},
          "output_type": "execute_result"
        }
      ],
      "source": [
        "# Write code here\n",
        "list1 = ['This is a test', 'for splitting', 'strings into words.']\n",
        "\n",
        "splitted_string_list=[]\n",
        "for i in list1:\n",
        "    split_list = i.split(\" \")\n",
        "    splitted_string_list.extend(split_list)\n",
        "    \n",
        "splitted_string_list"
      ]
    },
    {
      "cell_type": "markdown",
      "metadata": {
        "id": "ebqIC0Xa16dG"
      },
      "source": [
        "\n",
        "### `Problem 9:` Convert a character matrix to a single string using string comprehension.\n",
        "\n",
        "**Example 1:**\n",
        "\n",
        "Input:\n",
        "```bash\n",
        "[['t', 'h', 'i', 's'], ['i', 's'], ['a'], ['t', 'e', 's', 't']]\n",
        "```\n",
        "\n",
        "Output:\n",
        "```bash\n",
        "this is a test\n",
        "```"
      ]
    },
    {
      "cell_type": "code",
      "execution_count": 9,
      "metadata": {
        "id": "KLKxzyZf2BLr"
      },
      "outputs": [
        {
          "data": {
            "text/plain": [
              "'this is a test'"
            ]
          },
          "execution_count": 9,
          "metadata": {},
          "output_type": "execute_result"
        }
      ],
      "source": [
        "# Write code here\n",
        "matrix = [['t', 'h', 'i', 's'], ['i', 's'], ['a'], ['t', 'e', 's', 't']]\n",
        "\n",
        "s = ' '.join(''.join(w) for w in matrix)\n",
        "\n",
        "s"
      ]
    },
    {
      "cell_type": "markdown",
      "metadata": {
        "id": "0v1Z3Snp2DAm"
      },
      "source": [
        "Here's the edited version of the problem:\n",
        "\n",
        "---\n",
        "\n",
        "### `Problem 10:` Add spaces between potential words in a string.\n",
        "\n",
        "**Example:**\n",
        "\n",
        "Input:\n",
        "```bash\n",
        "['thisIs', 'aTest', 'forStringSplit']\n",
        "```\n",
        "\n",
        "Output:\n",
        "```bash\n",
        "['this Is', 'a Test', 'for String Split']\n",
        "```"
      ]
    },
    {
      "cell_type": "code",
      "execution_count": 10,
      "metadata": {
        "id": "pltvqSXa2IxP"
      },
      "outputs": [
        {
          "name": "stdout",
          "output_type": "stream",
          "text": [
            "['this Is', 'a Test', 'for String Split']\n"
          ]
        }
      ],
      "source": [
        "# Code here\n",
        "list1 = ['thisIs', 'aTest', 'forStringSplit']\n",
        "result = []\n",
        "\n",
        "for word in list1:\n",
        "    new_word = ''\n",
        "    for ch in word:\n",
        "        if ch.isupper():\n",
        "            new_word += ' ' + ch\n",
        "        else:\n",
        "            new_word += ch\n",
        "    result.append(new_word.strip())\n",
        "\n",
        "print(result)"
      ]
    },
    {
      "cell_type": "markdown",
      "metadata": {
        "id": "Yt8x67Ch3Ow1"
      },
      "source": [
        "### `Problem 11:` Write a program that can find the max number of each row of a matrix\n",
        "\n",
        "**Example:**\n",
        "\n",
        "Input:\n",
        "\n",
        "```bash\n",
        "[[1,2,3],[4,5,6],[7,8,9]]\n",
        "```\n",
        "\n",
        "Output:\n",
        "```bash\n",
        "[3,6,9]\n",
        "```"
      ]
    },
    {
      "cell_type": "code",
      "execution_count": 11,
      "metadata": {
        "id": "7QopAaAI3noh"
      },
      "outputs": [
        {
          "data": {
            "text/plain": [
              "[3, 6, 9]"
            ]
          },
          "execution_count": 11,
          "metadata": {},
          "output_type": "execute_result"
        }
      ],
      "source": [
        "# Write code here\n",
        "list1 = [[1,2,3],[4,5,6],[7,8,9]]\n",
        "max_list = []\n",
        "for inner_list in list1:\n",
        "    max_list.append(max(inner_list))\n",
        "\n",
        "max_list"
      ]
    },
    {
      "cell_type": "markdown",
      "metadata": {
        "id": "DBZlUmnt3pGT"
      },
      "source": [
        "### `Problem 13:` Write a list comprehension to print the following matrix\n",
        "\n",
        "[[0, 1, 2], [3, 4, 5], [6, 7, 8]]"
      ]
    },
    {
      "cell_type": "code",
      "execution_count": 12,
      "metadata": {
        "id": "Ip4e8M-S356h"
      },
      "outputs": [
        {
          "data": {
            "text/plain": [
              "[[0, 1, 2], [3, 4, 5], [6, 7, 8]]"
            ]
          },
          "execution_count": 12,
          "metadata": {},
          "output_type": "execute_result"
        }
      ],
      "source": [
        "# Write code here\n",
        "list1 = [[3*i + j for j in range(3)] for i in range(3)]\n",
        "\n",
        "list1"
      ]
    },
    {
      "cell_type": "markdown",
      "metadata": {},
      "source": [
        "### Problem 14: Extract Even Numbers from a List\n",
        "\n",
        "**Task:** Given a list of integers, use list comprehension to create a new list containing only the even numbers.\n",
        "\n",
        "**Example:**\n",
        "\n",
        "Input:\n",
        "```bash\n",
        "[1, 2, 3, 4, 5, 6, 7, 8, 9]\n",
        "```\n",
        "\n",
        "Output:\n",
        "```bash\n",
        "[2, 4, 6, 8]\n",
        "```\n"
      ]
    },
    {
      "cell_type": "code",
      "execution_count": 13,
      "metadata": {},
      "outputs": [
        {
          "data": {
            "text/plain": [
              "[2, 4, 6, 8]"
            ]
          },
          "execution_count": 13,
          "metadata": {},
          "output_type": "execute_result"
        }
      ],
      "source": [
        "list1 = [1,2,3,4,5,6,7,8,9]\n",
        "\n",
        "even_list =[]\n",
        "\n",
        "for i in list1:\n",
        "    if i % 2 == 0:\n",
        "        even_list.append(i)\n",
        "        \n",
        "even_list"
      ]
    },
    {
      "cell_type": "markdown",
      "metadata": {},
      "source": [
        "### Problem 15: Convert Strings to Uppercase\n",
        "\n",
        "**Task:** Given a list of strings, use list comprehension to convert all strings to uppercase.\n",
        "\n",
        "**Example:**\n",
        "\n",
        "Input:\n",
        "```bash\n",
        "['apple', 'banana', 'cherry']\n",
        "```\n",
        "\n",
        "Output:\n",
        "```bash\n",
        "['APPLE', 'BANANA', 'CHERRY']\n",
        "```\n"
      ]
    },
    {
      "cell_type": "code",
      "execution_count": 14,
      "metadata": {},
      "outputs": [
        {
          "data": {
            "text/plain": [
              "['APPLE', 'BANANA', 'CHERRY']"
            ]
          },
          "execution_count": 14,
          "metadata": {},
          "output_type": "execute_result"
        }
      ],
      "source": [
        "list1 = ['apple','banana','cherry']\n",
        "\n",
        "capitalized_list= [word.upper() for word in list1]\n",
        "\n",
        "capitalized_list"
      ]
    },
    {
      "cell_type": "code",
      "execution_count": null,
      "metadata": {},
      "outputs": [],
      "source": []
    }
  ],
  "metadata": {
    "colab": {
      "provenance": []
    },
    "kernelspec": {
      "display_name": "Python 3",
      "name": "python3"
    },
    "language_info": {
      "codemirror_mode": {
        "name": "ipython",
        "version": 3
      },
      "file_extension": ".py",
      "mimetype": "text/x-python",
      "name": "python",
      "nbconvert_exporter": "python",
      "pygments_lexer": "ipython3",
      "version": "3.12.6"
    }
  },
  "nbformat": 4,
  "nbformat_minor": 0
}
