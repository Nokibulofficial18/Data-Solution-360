{
  "cells": [
    {
      "cell_type": "markdown",
      "metadata": {
        "id": "h6dDSW5XGZFi"
      },
      "source": [
        "### **`Problem-1:`** Write a Python function that takes a list and returns a new list with unique elements of the first list.\n",
        "\n",
        "**Exercise 1:**\n",
        "\n",
        "Input:\n",
        "\n",
        "```bash\n",
        "[1,2,3,3,3,3,4,5]\n",
        "```\n",
        "\n",
        "Output:\n",
        "\n",
        "```bash\n",
        "[1, 2, 3, 4, 5]\n",
        "```"
      ]
    },
    {
      "cell_type": "code",
      "execution_count": 1,
      "metadata": {
        "id": "R5pq1C9LGe1y"
      },
      "outputs": [
        {
          "name": "stdout",
          "output_type": "stream",
          "text": [
            "[1, 2, 4, 5, 2, 1, 3, 5, 5]\n",
            "[1, 2, 3, 4, 5]\n"
          ]
        }
      ],
      "source": [
        "def unique_list(input_list): \n",
        "    return list(set(input_list))\n",
        "\n",
        "my_list = [1,2,4,5,2,1,3,5,5]\n",
        "unq_list = unique_list(my_list)\n",
        "print(my_list)\n",
        "print(unq_list)"
      ]
    },
    {
      "cell_type": "markdown",
      "metadata": {
        "id": "UxQ_VoyJGwHj"
      },
      "source": [
        "### **`Problem-2:`** Write a Python function that accepts a hyphen-separated sequence of words as parameter and returns the words in a hyphen-separated sequence after sorting them alphabetically.\n",
        "\n",
        "**Example 1:**\n",
        "\n",
        "Input:\n",
        "```bash\n",
        "green-red-yellow-black-white\n",
        "```\n",
        "\n",
        "Output:\n",
        "```bash\n",
        "black-green-red-white-yellow\n",
        "```"
      ]
    },
    {
      "cell_type": "code",
      "execution_count": 2,
      "metadata": {
        "id": "AAts2m5zGwiQ"
      },
      "outputs": [
        {
          "name": "stdout",
          "output_type": "stream",
          "text": [
            "green-red-yellow-black-white\n",
            "black-green-red-white-yellow\n"
          ]
        }
      ],
      "source": [
        "# Write code here\n",
        "def modify_string(s):\n",
        "    words = s.split(\"-\")\n",
        "    sorted_list = sorted(words)\n",
        "    res = \"\"\n",
        "    n=len(sorted_list)\n",
        "    for i in range(n-1):\n",
        "        res+=sorted_list[i]\n",
        "        res += \"-\"\n",
        "        \n",
        "    res += sorted_list[n-1]\n",
        "    return res\n",
        "\n",
        "s = input(\"Enter the hyphen separated sequence: \")\n",
        "mod_s = modify_string(s)\n",
        "print(s)\n",
        "print(mod_s)"
      ]
    },
    {
      "cell_type": "markdown",
      "metadata": {
        "id": "IRGH62S7Gx_n"
      },
      "source": [
        "Got it! Here's the modified question **without \"CampusX\"** and with a more generic example:\n",
        "\n",
        "---\n",
        "\n",
        "### **`Problem 3:`** Write a Python function that counts uppercase and lowercase letters in a string.\n",
        "\n",
        "**Sample Input:**  \n",
        "```python\n",
        "'The Quick Brown Fox Jumps Over The Lazy Dog.'\n",
        "```\n",
        "\n",
        "**Expected Output:**  \n",
        "```\n",
        "No. of Upper case characters: 8  \n",
        "No. of Lower case characters: 26\n",
        "```"
      ]
    },
    {
      "cell_type": "code",
      "execution_count": 6,
      "metadata": {
        "id": "OaUrD8vVG5o8"
      },
      "outputs": [
        {
          "name": "stdout",
          "output_type": "stream",
          "text": [
            "No. of Upper case characters:  9\n",
            "No. of Lower case characters:  26\n"
          ]
        }
      ],
      "source": [
        "# Write code here\n",
        "def string_cnt(s):\n",
        "    upper_cnt=0\n",
        "    lower_cnt=0\n",
        "    for char in s:\n",
        "        if char.isupper():\n",
        "            upper_cnt +=1\n",
        "        elif char.islower():\n",
        "            lower_cnt+=1\n",
        "    \n",
        "    return upper_cnt,lower_cnt\n",
        "\n",
        "s = input(\"Enter the string: \")\n",
        "upper_cnt,lower_cnt=string_cnt(s)\n",
        "print(\"No. of Upper case characters: \",upper_cnt)\n",
        "print(\"No. of Lower case characters: \",lower_cnt)\n"
      ]
    },
    {
      "cell_type": "markdown",
      "metadata": {
        "id": "V1BFFdYQG7Sn"
      },
      "source": [
        "### **`Problem 4:`** Write a Python program to print the even numbers from a given list.\n",
        "```\n",
        "Sample List : [1, 2, 3, 4, 5, 6, 7, 8, 9]\n",
        "Expected Result : [2, 4, 6, 8]\n",
        "```"
      ]
    },
    {
      "cell_type": "code",
      "execution_count": 7,
      "metadata": {
        "id": "VvAReLoDG_Z3"
      },
      "outputs": [
        {
          "name": "stdout",
          "output_type": "stream",
          "text": [
            "[1, 2, 3, 4, 5, 6, 7, 8, 9]\n",
            "[2, 4, 6, 8]\n"
          ]
        }
      ],
      "source": [
        "# Write code here\n",
        "def even_print(input_list):\n",
        "    return [x for x in input_list if x % 2 == 0]\n",
        "\n",
        "my_list = [1,2,3,4,5,6,7,8,9]\n",
        "even_list = even_print(my_list)\n",
        "print(my_list)\n",
        "print(even_list)"
      ]
    },
    {
      "cell_type": "markdown",
      "metadata": {
        "id": "qrK39Gn-HHb4"
      },
      "source": [
        "### **`Problem 5:`** Write a Python function to check whether a number is perfect or not.\n",
        "\n",
        "A Perfect number is a number that is half the sum of all of its positive divisors (including itself).\n",
        "\n",
        "Example :\n",
        "\n",
        "```\n",
        "The first perfect number is 6, because 1, 2, and 3 are its proper positive divisors, and 1 + 2 + 3 = 6.\n",
        "Equivalently, the number 6 is equal to half the sum of all its positive divisors: ( 1 + 2 + 3 + 6 ) / 2 = 6.\n",
        "\n",
        "The next perfect number is 28 = 1 + 2 + 4 + 7 + 14. This is followed by the perfect numbers 496 and 8128.\n",
        "```\n"
      ]
    },
    {
      "cell_type": "code",
      "execution_count": 11,
      "metadata": {
        "id": "P-OI7H78HICs"
      },
      "outputs": [
        {
          "name": "stdout",
          "output_type": "stream",
          "text": [
            "6 is a perfect number\n"
          ]
        }
      ],
      "source": [
        "# Write code here\n",
        "def check_perfect(n):\n",
        "    temp = n\n",
        "    sum = 0\n",
        "    for i in range(1,n):\n",
        "        if n % i ==0:\n",
        "            sum += i\n",
        "    \n",
        "    return sum == n\n",
        "\n",
        "n = int(input(\"Enter a number: \"))\n",
        "if check_perfect(n):\n",
        "    print(f\"{n} is a perfect number\")\n",
        "else:\n",
        "    print(f\"{n} is not a perfect number.\")"
      ]
    },
    {
      "cell_type": "markdown",
      "metadata": {
        "id": "oZdpcG77HO-6"
      },
      "source": [
        "### **`Problem-6:`** Write a Python function to concatenate any no of dictionaries to create a new one.\n",
        "\n",
        "```\n",
        "Sample Dictionary :\n",
        "dic1={1:10, 2:20}\n",
        "dic2={3:30, 4:40}\n",
        "dic3={5:50,6:60}\n",
        "Expected Result : {1: 10, 2: 20, 3: 30, 4: 40, 5: 50, 6: 60}\n",
        "```"
      ]
    },
    {
      "cell_type": "code",
      "execution_count": 13,
      "metadata": {
        "id": "LQgfAY4ZHPhj"
      },
      "outputs": [
        {
          "name": "stdout",
          "output_type": "stream",
          "text": [
            "Merged Dictionary: {1: 10, 2: 20, 3: 30, 4: 40, 5: 50, 6: 60}\n"
          ]
        }
      ],
      "source": [
        "# Write code here\n",
        "def merge_dicts(*args):\n",
        "    res = {}\n",
        "    for dictionary in args:\n",
        "        res.update(dictionary)\n",
        "    \n",
        "    return res\n",
        "\n",
        "\n",
        "dic1 = {1: 10, 2: 20}\n",
        "dic2 = {3: 30, 4: 40}\n",
        "dic3 = {5: 50, 6: 60}\n",
        "\n",
        "\n",
        "merged = merge_dicts(dic1, dic2, dic3)\n",
        "print(\"Merged Dictionary:\", merged)"
      ]
    },
    {
      "cell_type": "markdown",
      "metadata": {
        "id": "jQ6SzbCkHRd0"
      },
      "source": [
        "### `Problem-7` Write a python function that accepts a string as input and returns the word with most occurence.\n",
        "\n",
        "```\n",
        "Input:\n",
        "hello how are you i am fine thank you\n",
        "```\n",
        "\n",
        "```\n",
        "Output\n",
        "you -> 2\n",
        "```"
      ]
    },
    {
      "cell_type": "code",
      "execution_count": 17,
      "metadata": {
        "id": "Lh04JHLzIW7Z"
      },
      "outputs": [
        {
          "name": "stdout",
          "output_type": "stream",
          "text": [
            "you -> 2\n"
          ]
        }
      ],
      "source": [
        "# Write code here\n",
        "def max_occur(s):\n",
        "    word_list = s.split()\n",
        "    freq = {}\n",
        "    for word in word_list:\n",
        "        if word in freq.keys():\n",
        "            freq[word]+=1\n",
        "        else :\n",
        "            freq[word] = 1\n",
        "    max_common = max(freq,key=freq.get)\n",
        "    return max_common, freq[max_common]\n",
        "\n",
        "s = input(\"Enter the sentence: \")\n",
        "word, count =max_occur(s)\n",
        "print(f\"{word} -> {count}\")"
      ]
    },
    {
      "cell_type": "markdown",
      "metadata": {
        "id": "G26SYq6vqdLN"
      },
      "source": [
        "###`Problem-8` Using filter() and list() functions and .lower() method filter all the vowels in a given string.\n",
        "\n"
      ]
    },
    {
      "cell_type": "code",
      "execution_count": 19,
      "metadata": {
        "id": "zurga3DIqmEx"
      },
      "outputs": [
        {
          "name": "stdout",
          "output_type": "stream",
          "text": [
            "['I', 'a', 'O', 'i', 'u']\n"
          ]
        }
      ],
      "source": [
        "# Write code here\n",
        "s = input(\"Enter the string: \")\n",
        "vowels = 'aeiou'\n",
        "result = list(filter(lambda char: char.lower() in vowels,s))\n",
        "print(result)"
      ]
    },
    {
      "cell_type": "markdown",
      "metadata": {
        "id": "uQrsunZSqoYu"
      },
      "source": [
        "`Problem-9`: Use reduce to convert a 2D list to 1D"
      ]
    },
    {
      "cell_type": "code",
      "execution_count": 20,
      "metadata": {
        "id": "E1YUwnfgqnka"
      },
      "outputs": [
        {
          "name": "stdout",
          "output_type": "stream",
          "text": [
            "[1, 2, 3, 4, 5, 6]\n"
          ]
        }
      ],
      "source": [
        "# Write code here\n",
        "from functools import reduce\n",
        "\n",
        "two_d_list = [[1, 2], [3, 4], [5, 6]]\n",
        "one_d_list = reduce(lambda x, y : x+y,two_d_list)\n",
        "print(one_d_list)"
      ]
    },
    {
      "cell_type": "markdown",
      "metadata": {
        "id": "8-DLQEawt-_t"
      },
      "source": [
        "`Problem 10`- A dictionary contains following information about 5 employees:\n",
        "- First name\n",
        "- Last name\n",
        "- Age\n",
        "- Grade(Skilled,Semi-skilled,Highly skilled)<br>\n",
        "Write a program using map/filter/reduce to a list of employees(first name + last name) who are highly skilled"
      ]
    },
    {
      "cell_type": "code",
      "execution_count": 24,
      "metadata": {
        "id": "OLvptttLs6OU"
      },
      "outputs": [
        {
          "name": "stdout",
          "output_type": "stream",
          "text": [
            "['Jane Smith', 'Michael Brown']\n"
          ]
        }
      ],
      "source": [
        "# Write code here\n",
        "employees = [\n",
        "    {\"First name\": \"John\", \"Last name\": \"Doe\", \"Age\": 28, \"Grade\": \"Skilled\"},\n",
        "    {\"First name\": \"Jane\", \"Last name\": \"Smith\", \"Age\": 34, \"Grade\": \"Highly skilled\"},\n",
        "    {\"First name\": \"Emily\", \"Last name\": \"Davis\", \"Age\": 40, \"Grade\": \"Semi-skilled\"},\n",
        "    {\"First name\": \"Michael\", \"Last name\": \"Brown\", \"Age\": 45, \"Grade\": \"Highly skilled\"},\n",
        "    {\"First name\": \"Linda\", \"Last name\": \"Wilson\", \"Age\": 32, \"Grade\": \"Skilled\"}\n",
        "]\n",
        "highly_skilled = list(filter(lambda x:x[\"Grade\"]==\"Highly skilled\",employees))\n",
        "names = list(map(lambda x:x[\"First name\"]+\" \"+x[\"Last name\"],highly_skilled))\n",
        "\n",
        "print(names)"
      ]
    },
    {
      "cell_type": "code",
      "execution_count": null,
      "metadata": {},
      "outputs": [],
      "source": []
    }
  ],
  "metadata": {
    "colab": {
      "provenance": []
    },
    "kernelspec": {
      "display_name": "Python 3",
      "name": "python3"
    },
    "language_info": {
      "codemirror_mode": {
        "name": "ipython",
        "version": 3
      },
      "file_extension": ".py",
      "mimetype": "text/x-python",
      "name": "python",
      "nbconvert_exporter": "python",
      "pygments_lexer": "ipython3",
      "version": "3.12.6"
    }
  },
  "nbformat": 4,
  "nbformat_minor": 0
}
